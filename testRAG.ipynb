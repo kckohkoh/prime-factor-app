{
 "cells": [
  {
   "cell_type": "code",
   "execution_count": null,
   "id": "92736313",
   "metadata": {},
   "outputs": [],
   "source": [
    "!pip install streamlit langchain openai faiss-cpu\n",
    "!pip install mysql-connector-python"
   ]
  },
  {
   "cell_type": "code",
   "execution_count": null,
   "id": "25b60195",
   "metadata": {},
   "outputs": [],
   "source": [
    "import streamlit as st\n",
    "print(st.__version__)"
   ]
  },
  {
   "cell_type": "code",
   "execution_count": null,
   "id": "a30277cc",
   "metadata": {},
   "outputs": [],
   "source": [
    "print(\"Hello\")"
   ]
  },
  {
   "cell_type": "code",
   "execution_count": null,
   "id": "1221d4d6",
   "metadata": {},
   "outputs": [],
   "source": [
    "import sys\n",
    "print(sys.executable)"
   ]
  },
  {
   "cell_type": "code",
   "execution_count": null,
   "id": "23ce2805",
   "metadata": {},
   "outputs": [],
   "source": [
    "import sys\n",
    "print(sys.executable)\n",
    "print(\"Jupyter 연결 OK ✅\")"
   ]
  }
 ],
 "metadata": {
  "language_info": {
   "name": "python"
  }
 },
 "nbformat": 4,
 "nbformat_minor": 5
}
